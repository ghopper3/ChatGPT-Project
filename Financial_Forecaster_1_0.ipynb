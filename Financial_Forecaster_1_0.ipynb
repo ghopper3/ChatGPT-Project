{
  "nbformat": 4,
  "nbformat_minor": 0,
  "metadata": {
    "colab": {
      "provenance": [],
      "authorship_tag": "ABX9TyPkv5LeBrZCMIykDHxNJPm2",
      "include_colab_link": true
    },
    "kernelspec": {
      "name": "python3",
      "display_name": "Python 3"
    },
    "language_info": {
      "name": "python"
    }
  },
  "cells": [
    {
      "cell_type": "markdown",
      "metadata": {
        "id": "view-in-github",
        "colab_type": "text"
      },
      "source": [
        "<a href=\"https://colab.research.google.com/github/ghopper3/ChatGPT-Project/blob/main/Financial_Forecaster_1_0.ipynb\" target=\"_parent\"><img src=\"https://colab.research.google.com/assets/colab-badge.svg\" alt=\"Open In Colab\"/></a>"
      ]
    },
    {
      "cell_type": "markdown",
      "source": [
        "# Financial Forecaster 1.0\n",
        "This tool is designed to take historical financial statements and make a projection based on historical trends."
      ],
      "metadata": {
        "id": "XdoRrd1Z3LCd"
      }
    },
    {
      "cell_type": "markdown",
      "source": [
        "# High-Level Design\n",
        "\n",
        "## Project Overview\n",
        "\n",
        "*   Input: Spreadsheets with monthly corporate financial data (income statements).\n",
        "*   Functionality: Parse the input data, analyze trends, and use a forecasting model to project future financials.\n",
        "*  Output: Forecasted financial data for the specified number of future months or years.\n",
        "\n",
        "## Components\n",
        "\n",
        "* Data Loader: Module to load and parse spreadsheets.\n",
        "* Data Preprocessor: Module to clean and prepare data for forecasting.\n",
        "Forecaster: Core module that implements the forecasting model.\n",
        "* Output Generator: Module to format and output the forecasted data.\n",
        "* Forecasting Model: We will use a simple time series forecasting model such as ARIMA (AutoRegressive Integrated Moving Average), which is suitable for financial data forecasting. However, depending on the complexity of the data and the required accuracy, more sophisticated models like Prophet or LSTM neural networks could be considered."
      ],
      "metadata": {
        "id": "EGw57RHm3vAv"
      }
    },
    {
      "cell_type": "markdown",
      "source": [
        "# Project Setup\n",
        "\n",
        "First, let's install the appropriate tools:\n",
        "\n",
        "pandas for data manipulation.\n",
        "openpyxl for reading Excel files.\n",
        "statsmodels for ARIMA or another forecasting model.\n",
        "matplotlib for plotting (optional)."
      ],
      "metadata": {
        "id": "jem0XIUk3fFO"
      }
    },
    {
      "cell_type": "code",
      "execution_count": null,
      "metadata": {
        "colab": {
          "base_uri": "https://localhost:8080/"
        },
        "id": "XiHUZlvl2wLT",
        "outputId": "35320c7c-e948-4ec4-fed8-c8a625c3ebbd"
      },
      "outputs": [
        {
          "output_type": "stream",
          "name": "stdout",
          "text": [
            "Requirement already satisfied: pandas in /usr/local/lib/python3.10/dist-packages (1.5.3)\n",
            "Requirement already satisfied: openpyxl in /usr/local/lib/python3.10/dist-packages (3.1.2)\n",
            "Requirement already satisfied: statsmodels in /usr/local/lib/python3.10/dist-packages (0.14.1)\n",
            "Requirement already satisfied: matplotlib in /usr/local/lib/python3.10/dist-packages (3.7.1)\n",
            "Requirement already satisfied: scikit-learn in /usr/local/lib/python3.10/dist-packages (1.2.2)\n",
            "Requirement already satisfied: python-dateutil>=2.8.1 in /usr/local/lib/python3.10/dist-packages (from pandas) (2.8.2)\n",
            "Requirement already satisfied: pytz>=2020.1 in /usr/local/lib/python3.10/dist-packages (from pandas) (2023.4)\n",
            "Requirement already satisfied: numpy>=1.21.0 in /usr/local/lib/python3.10/dist-packages (from pandas) (1.23.5)\n",
            "Requirement already satisfied: et-xmlfile in /usr/local/lib/python3.10/dist-packages (from openpyxl) (1.1.0)\n",
            "Requirement already satisfied: scipy!=1.9.2,>=1.4 in /usr/local/lib/python3.10/dist-packages (from statsmodels) (1.11.4)\n",
            "Requirement already satisfied: patsy>=0.5.4 in /usr/local/lib/python3.10/dist-packages (from statsmodels) (0.5.6)\n",
            "Requirement already satisfied: packaging>=21.3 in /usr/local/lib/python3.10/dist-packages (from statsmodels) (23.2)\n",
            "Requirement already satisfied: contourpy>=1.0.1 in /usr/local/lib/python3.10/dist-packages (from matplotlib) (1.2.0)\n",
            "Requirement already satisfied: cycler>=0.10 in /usr/local/lib/python3.10/dist-packages (from matplotlib) (0.12.1)\n",
            "Requirement already satisfied: fonttools>=4.22.0 in /usr/local/lib/python3.10/dist-packages (from matplotlib) (4.48.1)\n",
            "Requirement already satisfied: kiwisolver>=1.0.1 in /usr/local/lib/python3.10/dist-packages (from matplotlib) (1.4.5)\n",
            "Requirement already satisfied: pillow>=6.2.0 in /usr/local/lib/python3.10/dist-packages (from matplotlib) (9.4.0)\n",
            "Requirement already satisfied: pyparsing>=2.3.1 in /usr/local/lib/python3.10/dist-packages (from matplotlib) (3.1.1)\n",
            "Requirement already satisfied: joblib>=1.1.1 in /usr/local/lib/python3.10/dist-packages (from scikit-learn) (1.3.2)\n",
            "Requirement already satisfied: threadpoolctl>=2.0.0 in /usr/local/lib/python3.10/dist-packages (from scikit-learn) (3.2.0)\n",
            "Requirement already satisfied: six in /usr/local/lib/python3.10/dist-packages (from patsy>=0.5.4->statsmodels) (1.16.0)\n"
          ]
        }
      ],
      "source": [
        "!pip install pandas openpyxl statsmodels matplotlib scikit-learn\n"
      ]
    },
    {
      "cell_type": "markdown",
      "source": [
        "# Implementation\n",
        "\n",
        "Let's start with the coding part. We'll break it down into modules as outlined in the high-level design.\n",
        "\n",
        "Data Loader Module (data_loader.py)\n",
        "This module will contain functions to load the financial data from spreadsheets."
      ],
      "metadata": {
        "id": "OsMzy6w44q0T"
      }
    },
    {
      "cell_type": "code",
      "source": [
        "import pandas as pd\n",
        "\n",
        "def load_financial_data(filepath: str) -> pd.DataFrame:\n",
        "    \"\"\"\n",
        "    Load monthly corporate financial data from an Excel spreadsheet.\n",
        "\n",
        "    Args:\n",
        "        filepath (str): Path to the spreadsheet.\n",
        "\n",
        "    Returns:\n",
        "        pd.DataFrame: Dataframe with financial metrics as rows and dates as columns.\n",
        "    \"\"\"\n",
        "    # Load the spreadsheet, setting the first column as the index\n",
        "    df = pd.read_excel(filepath, engine='openpyxl', index_col=0)\n",
        "\n",
        "    # Parse the dates in the first row and set as column headers\n",
        "    df.columns = pd.to_datetime(df.columns, format='%d/%b/%y')\n",
        "\n",
        "    return df\n",
        "\n",
        "# Adjust the filepath to point to the correct location of your spreadsheet\n",
        "filepath = '/content/Income_Statement_2.xlsx'\n",
        "\n",
        "# Load the data\n",
        "financial_data = load_financial_data(filepath)\n",
        "print(financial_data.head())  # Display the first few rows to verify the loading and transformation\n"
      ],
      "metadata": {
        "colab": {
          "base_uri": "https://localhost:8080/"
        },
        "id": "_tDACJ_P4w1A",
        "outputId": "69e46a1f-2f8b-4903-9c5e-21696a60804b"
      },
      "execution_count": null,
      "outputs": [
        {
          "output_type": "stream",
          "name": "stdout",
          "text": [
            "               2017-09-30  2017-10-31  2017-11-30  2017-12-31    2018-01-31  \\\n",
            "US$ thousands                                                                 \n",
            "Revenues          40850.7     41050.0     43630.2     44206.5  41016.666667   \n",
            "COGS             -29157.2    -29442.5    -31836.5    -32486.5 -30147.250000   \n",
            "Gross profit      11693.5     11607.5     11793.7     11720.0  10869.416667   \n",
            "SG&A              -9577.0     -9687.0     -9510.3     -9481.6  -9500.000000   \n",
            "EBITDA             2116.5      1920.5      2283.4      2238.4   1369.416667   \n",
            "\n",
            "               2018-02-28  2018-03-31  2018-04-30    2018-05-31    2018-06-30  \\\n",
            "US$ thousands                                                                   \n",
            "Revenues       43067.5000  43067.5000  43067.5000  45118.333333  45118.333333   \n",
            "COGS          -31654.6125 -31654.6125 -31654.6125 -33161.975000 -33161.975000   \n",
            "Gross profit   11412.8875  11412.8875  11412.8875  11956.358333  11956.358333   \n",
            "SG&A           -9500.0000  -9500.0000  -9500.0000  -9500.000000  -9500.000000   \n",
            "EBITDA          1912.8875   1912.8875   1912.8875   2456.358333   2456.358333   \n",
            "\n",
            "               ...  2019-03-31  2019-04-30  2019-05-31  2019-06-30  \\\n",
            "US$ thousands  ...                                                   \n",
            "Revenues       ...     48744.0     49160.0     49590.0     50007.0   \n",
            "COGS           ...    -35701.0    -36006.0    -36321.0    -36626.0   \n",
            "Gross profit   ...     13043.0     13155.0     13270.0     13381.0   \n",
            "SG&A           ...    -10466.0    -10555.0    -10648.0    -10737.0   \n",
            "EBITDA         ...      2577.0      2599.0      2622.0      2644.0   \n",
            "\n",
            "               2019-07-31  2019-08-31  2019-09-30  2019-10-31  2019-11-30  \\\n",
            "US$ thousands                                                               \n",
            "Revenues          50437.0     50867.0     51283.0     51714.0     52130.0   \n",
            "COGS             -36941.0    -37256.0    -37561.0    -37876.0    -38181.0   \n",
            "Gross profit      13496.0     13611.0     13723.0     13838.0     13949.0   \n",
            "SG&A             -10830.0    -10922.0    -11011.0    -11104.0    -11193.0   \n",
            "EBITDA             2667.0      2689.0      2711.0      2734.0      2756.0   \n",
            "\n",
            "               2019-12-31  \n",
            "US$ thousands              \n",
            "Revenues          52560.0  \n",
            "COGS             -38496.0  \n",
            "Gross profit      14064.0  \n",
            "SG&A             -11285.0  \n",
            "EBITDA             2779.0  \n",
            "\n",
            "[5 rows x 28 columns]\n"
          ]
        }
      ]
    },
    {
      "cell_type": "markdown",
      "source": [
        "Data Preprocessor Module (data_preprocessor.py)\n",
        "This module will prepare the data for forecasting, handling any necessary cleaning or transformation."
      ],
      "metadata": {
        "id": "7evokYSR4z6q"
      }
    },
    {
      "cell_type": "code",
      "source": [
        "def preprocess_financial_data(df: pd.DataFrame) -> pd.DataFrame:\n",
        "    \"\"\"Preprocess the financial data for forecasting.\n",
        "\n",
        "    Args:\n",
        "        df (pd.DataFrame): Raw financial data.\n",
        "\n",
        "    Returns:\n",
        "        pd.DataFrame: Preprocessed financial data.\n",
        "    \"\"\"\n",
        "    # Implement preprocessing steps as needed, e.g., handling missing values\n",
        "    # Placeholder for preprocessing steps\n",
        "    return df  # Return the preprocessed dataframe\n"
      ],
      "metadata": {
        "id": "NOFTMQgK44zD"
      },
      "execution_count": null,
      "outputs": []
    },
    {
      "cell_type": "markdown",
      "source": [
        "Forecaster Module (forecaster.py)\n",
        "This module will implement the forecasting logic using a chosen model."
      ],
      "metadata": {
        "id": "vNOmoNhd48TH"
      }
    },
    {
      "cell_type": "code",
      "source": [
        "from sklearn.linear_model import LinearRegression\n",
        "import numpy as np\n",
        "\n",
        "def forecast_revenue_linear_regression(df: pd.DataFrame, periods: int) -> pd.DataFrame:\n",
        "    # Filter DataFrame for the 'Revenues' metric\n",
        "    revenue_df = df[df['Metric'] == 'Revenues'].copy()  # Create a copy to avoid modifying the original DataFrame\n",
        "    revenue_df['Date'] = pd.to_datetime(revenue_df['Date'])\n",
        "    revenue_df.sort_values(by='Date', inplace=True)\n",
        "\n",
        "    # Prepare the features (X) and target (y)\n",
        "    # Convert dates to ordinal numbers for linear regression\n",
        "    X = np.array([d.toordinal() for d in revenue_df['Date']]).reshape(-1, 1)\n",
        "    y = revenue_df['Value'].values\n",
        "\n",
        "    # Fit the linear regression model\n",
        "    model = LinearRegression()\n",
        "    model.fit(X, y)\n",
        "\n",
        "    # Generate dates for forecasting\n",
        "    last_date = revenue_df['Date'].max()\n",
        "    future_dates = [last_date + pd.DateOffset(months=m) for m in range(1, periods + 1)]\n",
        "    future_dates_ordinal = np.array([d.toordinal() for d in future_dates]).reshape(-1, 1)\n",
        "\n",
        "    # Forecast future revenues\n",
        "    forecasted_values = model.predict(future_dates_ordinal)\n",
        "\n",
        "    return pd.DataFrame({'Date': future_dates, 'Forecasted Revenue': forecasted_values})\n"
      ],
      "metadata": {
        "id": "aXV9JA8d4_mL"
      },
      "execution_count": null,
      "outputs": []
    },
    {
      "cell_type": "markdown",
      "source": [
        "Debugging:"
      ],
      "metadata": {
        "id": "CtOt_pJAPr_V"
      }
    },
    {
      "cell_type": "code",
      "source": [
        "forecast_df = forecast_revenue_linear_regression(transformed_data, forecast_periods)\n",
        "print(forecast_df)"
      ],
      "metadata": {
        "colab": {
          "base_uri": "https://localhost:8080/"
        },
        "id": "fbnCeXSIPsf8",
        "outputId": "a9a211a1-a763-44f4-86d2-8aa2df6b3d42"
      },
      "execution_count": null,
      "outputs": [
        {
          "output_type": "stream",
          "name": "stdout",
          "text": [
            "         Date  Forecasted Revenue\n",
            "0  2019-01-31        47924.930038\n",
            "1  2019-02-28        48313.523926\n",
            "2  2019-03-31        48743.752873\n",
            "3  2019-04-30        49160.103466\n",
            "4  2019-05-31        49590.332413\n",
            "5  2019-06-30        50006.683007\n",
            "6  2019-07-31        50436.911954\n",
            "7  2019-08-31        50867.140901\n",
            "8  2019-09-30        51283.491495\n",
            "9  2019-10-31        51713.720441\n",
            "10 2019-11-30        52130.071035\n",
            "11 2019-12-31        52560.299982\n"
          ]
        }
      ]
    },
    {
      "cell_type": "markdown",
      "source": [
        "Main Script (main.py)\n",
        "This script will orchestrate the loading, preprocessing, forecasting, and output generation."
      ],
      "metadata": {
        "id": "k3jOVDTS5Cgx"
      }
    },
    {
      "cell_type": "code",
      "source": [
        "def load_and_transform_financial_data(filepath: str) -> pd.DataFrame:\n",
        "    df = pd.read_excel(filepath, engine='openpyxl', index_col=\"US$ thousands\")\n",
        "    df_long = df.stack().reset_index()\n",
        "    df_long.columns = ['Metric', 'Date', 'Value']\n",
        "    df_long['Date'] = pd.to_datetime(df_long['Date'])\n",
        "    df_long['Value'] = pd.to_numeric(df_long['Value'], errors='coerce')\n",
        "    return df_long\n",
        "\n",
        "def forecast_metric(df: pd.DataFrame, metric: str, periods: int) -> pd.DataFrame:\n",
        "    metric_df = df[df['Metric'] == metric]\n",
        "    metric_df = metric_df.sort_values(by='Date')\n",
        "    metric_df['Date'] = pd.to_datetime(metric_df['Date'])\n",
        "    metric_df.set_index('Date', inplace=True)\n",
        "    model = ARIMA(metric_df['Value'], order=(1, 1, 1))\n",
        "    model_fit = model.fit()\n",
        "    forecast = model_fit.forecast(steps=periods)\n",
        "    return pd.DataFrame({f'Forecasted {metric}': forecast}, index=pd.date_range(start=metric_df.index[-1], periods=periods+1, closed='right'))\n",
        "\n",
        "if __name__ == \"__main__\":\n",
        "    filepath = '/content/Income_Statement_2.xlsx'\n",
        "    forecast_periods = 12  # Forecast for the next 12 months\n",
        "\n",
        "    # Load and transform the data\n",
        "    transformed_data = load_and_transform_financial_data(filepath)\n",
        "\n",
        "    # Forecast Revenues using Linear Regression\n",
        "    forecast_df = forecast_revenue_linear_regression(transformed_data, forecast_periods)\n",
        "    print(forecast_df)\n",
        "\n",
        "    # Verify the length of the forecasted revenue series\n",
        "forecasted_revenue_length = len(forecast_df['Forecasted Revenue'])\n",
        "print(f\"Length of forecasted revenue: {forecasted_revenue_length}\")\n",
        "\n",
        "# Compare with the expected periods to forecast\n",
        "print(f\"Expected periods to forecast: {periods_to_forecast}\")\n",
        "\n",
        "# Check if they match\n",
        "if forecasted_revenue_length == periods_to_forecast:\n",
        "    print(\"The lengths match.\")\n",
        "else:\n",
        "    print(f\"Mismatch in lengths. Expected {periods_to_forecast}, got {forecasted_revenue_length}.\")\n",
        "\n",
        "\n",
        "    # Save the forecasted DataFrame to a CSV file\n",
        "    forecast_df.to_csv('/content/forecasted_revenues_linear_regression.csv', index=False)\n",
        "    print(\"Forecasted data saved to /content/forecasted_revenues_linear_regression.csv\")\n",
        "\n",
        "\n"
      ],
      "metadata": {
        "colab": {
          "base_uri": "https://localhost:8080/"
        },
        "id": "jABGT0f35F6n",
        "outputId": "77961aa0-6bbb-46ac-f6af-f9433fd9e6ab"
      },
      "execution_count": null,
      "outputs": [
        {
          "output_type": "stream",
          "name": "stdout",
          "text": [
            "         Date  Forecasted Revenue\n",
            "0  2020-01-31        52990.491327\n",
            "1  2020-02-29        53392.961012\n",
            "2  2020-03-31        53823.187228\n",
            "3  2020-04-30        54239.535178\n",
            "4  2020-05-31        54669.761394\n",
            "5  2020-06-30        55086.109344\n",
            "6  2020-07-31        55516.335560\n",
            "7  2020-08-31        55946.561775\n",
            "8  2020-09-30        56362.909725\n",
            "9  2020-10-31        56793.135941\n",
            "10 2020-11-30        57209.483891\n",
            "11 2020-12-31        57639.710107\n",
            "Length of forecasted revenue: 12\n",
            "Expected periods to forecast: 12\n",
            "The lengths match.\n"
          ]
        }
      ]
    },
    {
      "cell_type": "markdown",
      "source": [
        "Forecasting the rest of the income statement items will require additional calculations. We will use the following rules to forecast the rest of the items:\n",
        "\n",
        "Forecast COGS: Calculate COGS as a percentage of revenue from historical data, then apply this percentage to the forecasted revenue.\n",
        "\n",
        "Calculate Gross Profit: Subtract forecasted COGS from forecasted Revenues.\n",
        "\n",
        "Forecast SG&A: Calculate SG&A as a percentage of revenue from historical data, then apply this percentage to the forecasted revenue.\n",
        "\n",
        "Calculate EBITDA: Subtract forecasted SG&A from Gross Profit.\n",
        "\n",
        "Determine Depreciation and Interest: Use the run rate from historical data.\n",
        "\n",
        "Calculate EBIT: Subtract Depreciation from EBITDA.\n",
        "\n",
        "Calculate Income Before Taxes: Subtract Interest from EBIT.\n",
        "\n",
        "Forecast Taxes: Calculate Taxes as a percentage of revenue from historical data, then apply this percentage to the forecasted revenue.\n",
        "\n",
        "Calculate Net Income: Subtract Taxes from Income Before Taxes.\n",
        "\n",
        "Set Dividends Paid: Assume 0.0 as per your instruction."
      ],
      "metadata": {
        "id": "hzd-QlfdCaw2"
      }
    },
    {
      "cell_type": "code",
      "source": [
        "def forecast_financials(df: pd.DataFrame, forecasted_revenue_df: pd.DataFrame, periods_to_forecast: int) -> pd.DataFrame:\n",
        "    forecasted_revenue_series = forecasted_revenue_df['Forecasted Revenue'].iloc[:periods_to_forecast]\n",
        "\n",
        "    # Historical ratios\n",
        "    historical_cogs_ratio = df.loc['COGS', :].sum() / df.loc['Revenues', :].sum()\n",
        "    historical_sgna_ratio = df.loc['SG&A', :].sum() / df.loc['Revenues', :].sum()\n",
        "    historical_taxes_ratio = df.loc['Taxes', :].sum() / df.loc['Revenues', :].sum()\n",
        "\n",
        "    # Get the last historical depreciation value and calculate incremental increase\n",
        "    last_historical_depreciation = df.loc['Depreciation', :].iloc[-1]\n",
        "    forecasted_depreciation_values = [last_historical_depreciation * (1 + 0.0138/100) ** month for month in range(1, periods_to_forecast + 1)]\n",
        "\n",
        "    # Other forecasts using historical ratios\n",
        "    forecasted_cogs = forecasted_revenue_series * historical_cogs_ratio\n",
        "    gross_profit = forecasted_revenue_series + forecasted_cogs\n",
        "    forecasted_sgna = forecasted_revenue_series * historical_sgna_ratio\n",
        "    ebitda = gross_profit + forecasted_sgna\n",
        "    ebit = ebitda + forecasted_depreciation_values[-1]  # Use the dynamically calculated depreciation\n",
        "    historical_interest = df.loc['Interest', :].mean()\n",
        "    interest = historical_interest\n",
        "    income_before_taxes = ebit + interest\n",
        "    forecasted_taxes = forecasted_revenue_series * historical_taxes_ratio\n",
        "    net_income = income_before_taxes + forecasted_taxes\n",
        "    dividends_paid = pd.Series(0.0, index=forecasted_revenue_series.index)\n",
        "\n",
        "    # Assemble forecasted financial statement\n",
        "    forecasted_financials = pd.DataFrame({\n",
        "        'Forecasted Revenue': forecasted_revenue_series,\n",
        "        'Forecasted COGS': forecasted_cogs,\n",
        "        'Gross Profit': gross_profit,\n",
        "        'Forecasted SG&A': forecasted_sgna,\n",
        "        'EBITDA': ebitda,\n",
        "        'Depreciation': forecasted_depreciation_values,\n",
        "        'EBIT': ebit,\n",
        "        'Interest': interest,\n",
        "        'Income Before Taxes': income_before_taxes,\n",
        "        'Forecasted Taxes': forecasted_taxes,\n",
        "        'Net Income': net_income,\n",
        "        'Dividends Paid': dividends_paid,\n",
        "    }, index=forecasted_revenue_series.index)\n",
        "\n",
        "    return forecasted_financials\n",
        "\n",
        "# Ensure this is calling the forecast_financials function and storing its return value\n",
        "forecasted_financials_df = forecast_financials(financial_data, forecast_df, periods_to_forecast)\n",
        "\n",
        "# Output the DataFrame as a CSV file\n",
        "forecasted_financials_df.to_csv('/content/forecasted_financials.csv', index=True)\n",
        "\n",
        "print(\"Forecasted financials saved to '/content/forecasted_financials.csv'\")\n"
      ],
      "metadata": {
        "colab": {
          "base_uri": "https://localhost:8080/"
        },
        "id": "gyrZctNaDVAW",
        "outputId": "be430a6e-5350-4beb-9a9f-50cd495f034e"
      },
      "execution_count": null,
      "outputs": [
        {
          "output_type": "stream",
          "name": "stdout",
          "text": [
            "Forecasted financials saved to '/content/forecasted_financials.csv'\n"
          ]
        }
      ]
    },
    {
      "cell_type": "markdown",
      "source": [],
      "metadata": {
        "id": "SttCeu3-_77H"
      }
    }
  ]
}